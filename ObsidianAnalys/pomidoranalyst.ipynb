{
 "cells": [
  {
   "cell_type": "code",
   "execution_count": 22,
   "metadata": {},
   "outputs": [],
   "source": [
    "import json\n",
    "import datetime as DT\n",
    "import pandas as pd"
   ]
  },
  {
   "cell_type": "code",
   "execution_count": 47,
   "metadata": {},
   "outputs": [],
   "source": [
    "path = 'D:\\Data\\Obsidian\\ConstantinVault\\Daily\\\\'\n",
    "startday = '2022-10-31'\n",
    "lastday = '2022-11-08'\n",
    "\n",
    "report = {'startday':startday, 'lastday':lastday}\n",
    "\n",
    "start_date = DT.date.fromisoformat(startday)\n",
    "end_date = DT.date.fromisoformat(lastday)\n",
    "\n",
    "datelist = pd.date_range(\n",
    "    min(start_date, end_date),\n",
    "    max(start_date, end_date)\n",
    ").strftime('%Y-%m-%d').tolist()"
   ]
  },
  {
   "cell_type": "code",
   "execution_count": 48,
   "metadata": {},
   "outputs": [],
   "source": [
    "def lineAnalyst(data):\n",
    "    # Выделить название раздела\n",
    "    theme = data.split(':')[0]\n",
    "    # Выделить название проекта\n",
    "    project = data.split(':')[1]\n",
    "    # Выделить потраченное время\n",
    "    timespend = data.split(':')[-1]\n",
    "    # Добавить в список тем текущую тему, если ее там не было\n",
    "    if (not('themes' in report.keys())): report['themes'] = list()\n",
    "    if not (theme in report['themes']): report['themes'].append(theme)\n",
    "    # Посчитать затраченное время, если оно вводилось с помощью +\n",
    "    if ('+' in timespend): timespend = timespend.count('+')\n",
    "    # Посчитать общее затраченное время на все\n",
    "    totalsum = report['totalsum'] if 'totalsum' in report.keys() else 0\n",
    "    report['totalsum'] = totalsum + int(timespend)\n",
    "    # Заполнить затраты по конкретному проекту\n",
    "    if (not(theme in report.keys())):\n",
    "        report[theme] = {data.split(':')[1]:int(timespend)}\n",
    "    else:\n",
    "        projects = report[theme]\n",
    "        if not(project in projects.keys()):\n",
    "            projects[project] = int(timespend)\n",
    "        else:\n",
    "            projects[project] += int(timespend) \n",
    "    \n",
    "    "
   ]
  },
  {
   "cell_type": "code",
   "execution_count": 49,
   "metadata": {},
   "outputs": [],
   "source": [
    "for andate in datelist:\n",
    "    try:\n",
    "        f = open(path+andate+'.md', encoding=\"utf-8\")\n",
    "        lines = f.readlines()\n",
    "        pomidor = 0\n",
    "        for line in lines:\n",
    "            if ('#' in line) & (pomidor == 1):pomidor = 0\n",
    "            if((pomidor == 1) & (line[0] != '\\n')): lineAnalyst(line)\n",
    "            if '#Помидорки' in line: pomidor = 1\n",
    "    except: print('Дата ' + andate + ' отсутствует')\n",
    "\n"
   ]
  },
  {
   "cell_type": "code",
   "execution_count": 50,
   "metadata": {},
   "outputs": [
    {
     "data": {
      "text/plain": [
       "{'startday': '2022-10-31',\n",
       " 'lastday': '2022-11-08',\n",
       " 'themes': ['HardSkill', 'Проекты', 'ТехПис'],\n",
       " 'totalsum': 29,\n",
       " 'HardSkill': {' Hadoop': 18, ' Python': 2},\n",
       " 'Проекты': {' Python for Obsidian': 4},\n",
       " 'ТехПис': {' Большая тройка': 5}}"
      ]
     },
     "execution_count": 50,
     "metadata": {},
     "output_type": "execute_result"
    }
   ],
   "source": [
    "report"
   ]
  }
 ],
 "metadata": {
  "kernelspec": {
   "display_name": "Python 3.10.5 64-bit",
   "language": "python",
   "name": "python3"
  },
  "language_info": {
   "codemirror_mode": {
    "name": "ipython",
    "version": 3
   },
   "file_extension": ".py",
   "mimetype": "text/x-python",
   "name": "python",
   "nbconvert_exporter": "python",
   "pygments_lexer": "ipython3",
   "version": "3.10.5"
  },
  "orig_nbformat": 4,
  "vscode": {
   "interpreter": {
    "hash": "26de051ba29f2982a8de78e945f0abaf191376122a1563185a90213a26c5da77"
   }
  }
 },
 "nbformat": 4,
 "nbformat_minor": 2
}
