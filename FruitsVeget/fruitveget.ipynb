{
 "cells": [
  {
   "cell_type": "code",
   "execution_count": 1,
   "metadata": {},
   "outputs": [],
   "source": [
    "import pandas as pd"
   ]
  },
  {
   "cell_type": "code",
   "execution_count": 2,
   "metadata": {},
   "outputs": [],
   "source": [
    "df = pd.read_csv('фрукты_овощи.csv', sep = ';')"
   ]
  },
  {
   "cell_type": "code",
   "execution_count": 3,
   "metadata": {},
   "outputs": [
    {
     "data": {
      "text/html": [
       "<div>\n",
       "<style scoped>\n",
       "    .dataframe tbody tr th:only-of-type {\n",
       "        vertical-align: middle;\n",
       "    }\n",
       "\n",
       "    .dataframe tbody tr th {\n",
       "        vertical-align: top;\n",
       "    }\n",
       "\n",
       "    .dataframe thead th {\n",
       "        text-align: right;\n",
       "    }\n",
       "</style>\n",
       "<table border=\"1\" class=\"dataframe\">\n",
       "  <thead>\n",
       "    <tr style=\"text-align: right;\">\n",
       "      <th></th>\n",
       "      <th>Дата</th>\n",
       "      <th>Магазин</th>\n",
       "      <th>Город</th>\n",
       "      <th>Товар</th>\n",
       "      <th>Категория</th>\n",
       "      <th>Количество. кг</th>\n",
       "      <th>Стоимость. руб.</th>\n",
       "    </tr>\n",
       "  </thead>\n",
       "  <tbody>\n",
       "    <tr>\n",
       "      <th>0</th>\n",
       "      <td>26.09.2012</td>\n",
       "      <td>Провиант</td>\n",
       "      <td>Владимир</td>\n",
       "      <td>Томаты</td>\n",
       "      <td>Овощи</td>\n",
       "      <td>8.5</td>\n",
       "      <td>680.0</td>\n",
       "    </tr>\n",
       "    <tr>\n",
       "      <th>1</th>\n",
       "      <td>14.02.2015</td>\n",
       "      <td>Сельпо</td>\n",
       "      <td>Ковров</td>\n",
       "      <td>Яблоки</td>\n",
       "      <td>Фрукты</td>\n",
       "      <td>1.1</td>\n",
       "      <td>75.9</td>\n",
       "    </tr>\n",
       "    <tr>\n",
       "      <th>2</th>\n",
       "      <td>06.02.2011</td>\n",
       "      <td>Полтинник</td>\n",
       "      <td>Гусь-Хрустальный</td>\n",
       "      <td>Картофель</td>\n",
       "      <td>Овощи</td>\n",
       "      <td>10.3</td>\n",
       "      <td>360.5</td>\n",
       "    </tr>\n",
       "    <tr>\n",
       "      <th>3</th>\n",
       "      <td>03.04.2010</td>\n",
       "      <td>Авоська</td>\n",
       "      <td>Владимир</td>\n",
       "      <td>Яблоки</td>\n",
       "      <td>Фрукты</td>\n",
       "      <td>3.4</td>\n",
       "      <td>234.6</td>\n",
       "    </tr>\n",
       "    <tr>\n",
       "      <th>4</th>\n",
       "      <td>21.12.2011</td>\n",
       "      <td>Копеечка</td>\n",
       "      <td>Ковров</td>\n",
       "      <td>Апельсины</td>\n",
       "      <td>Фрукты</td>\n",
       "      <td>19.4</td>\n",
       "      <td>1241.6</td>\n",
       "    </tr>\n",
       "  </tbody>\n",
       "</table>\n",
       "</div>"
      ],
      "text/plain": [
       "         Дата    Магазин             Город      Товар Категория  \\\n",
       "0  26.09.2012   Провиант          Владимир     Томаты     Овощи   \n",
       "1  14.02.2015     Сельпо            Ковров     Яблоки    Фрукты   \n",
       "2  06.02.2011  Полтинник  Гусь-Хрустальный  Картофель     Овощи   \n",
       "3  03.04.2010    Авоська          Владимир     Яблоки    Фрукты   \n",
       "4  21.12.2011   Копеечка            Ковров  Апельсины    Фрукты   \n",
       "\n",
       "   Количество. кг  Стоимость. руб.  \n",
       "0             8.5            680.0  \n",
       "1             1.1             75.9  \n",
       "2            10.3            360.5  \n",
       "3             3.4            234.6  \n",
       "4            19.4           1241.6  "
      ]
     },
     "execution_count": 3,
     "metadata": {},
     "output_type": "execute_result"
    }
   ],
   "source": [
    "df.head()"
   ]
  },
  {
   "cell_type": "code",
   "execution_count": 4,
   "metadata": {},
   "outputs": [
    {
     "data": {
      "text/html": [
       "<div>\n",
       "<style scoped>\n",
       "    .dataframe tbody tr th:only-of-type {\n",
       "        vertical-align: middle;\n",
       "    }\n",
       "\n",
       "    .dataframe tbody tr th {\n",
       "        vertical-align: top;\n",
       "    }\n",
       "\n",
       "    .dataframe thead th {\n",
       "        text-align: right;\n",
       "    }\n",
       "</style>\n",
       "<table border=\"1\" class=\"dataframe\">\n",
       "  <thead>\n",
       "    <tr style=\"text-align: right;\">\n",
       "      <th></th>\n",
       "      <th>Количество. кг</th>\n",
       "      <th>Стоимость. руб.</th>\n",
       "    </tr>\n",
       "  </thead>\n",
       "  <tbody>\n",
       "    <tr>\n",
       "      <th>count</th>\n",
       "      <td>2000.000000</td>\n",
       "      <td>2000.000000</td>\n",
       "    </tr>\n",
       "    <tr>\n",
       "      <th>mean</th>\n",
       "      <td>10.208050</td>\n",
       "      <td>712.614400</td>\n",
       "    </tr>\n",
       "    <tr>\n",
       "      <th>std</th>\n",
       "      <td>5.619911</td>\n",
       "      <td>534.861328</td>\n",
       "    </tr>\n",
       "    <tr>\n",
       "      <th>min</th>\n",
       "      <td>0.500000</td>\n",
       "      <td>13.500000</td>\n",
       "    </tr>\n",
       "    <tr>\n",
       "      <th>25%</th>\n",
       "      <td>5.200000</td>\n",
       "      <td>303.600000</td>\n",
       "    </tr>\n",
       "    <tr>\n",
       "      <th>50%</th>\n",
       "      <td>10.300000</td>\n",
       "      <td>588.400000</td>\n",
       "    </tr>\n",
       "    <tr>\n",
       "      <th>75%</th>\n",
       "      <td>15.200000</td>\n",
       "      <td>991.400000</td>\n",
       "    </tr>\n",
       "    <tr>\n",
       "      <th>max</th>\n",
       "      <td>20.000000</td>\n",
       "      <td>2626.800000</td>\n",
       "    </tr>\n",
       "  </tbody>\n",
       "</table>\n",
       "</div>"
      ],
      "text/plain": [
       "       Количество. кг  Стоимость. руб.\n",
       "count     2000.000000      2000.000000\n",
       "mean        10.208050       712.614400\n",
       "std          5.619911       534.861328\n",
       "min          0.500000        13.500000\n",
       "25%          5.200000       303.600000\n",
       "50%         10.300000       588.400000\n",
       "75%         15.200000       991.400000\n",
       "max         20.000000      2626.800000"
      ]
     },
     "execution_count": 4,
     "metadata": {},
     "output_type": "execute_result"
    }
   ],
   "source": [
    "df.describe()"
   ]
  },
  {
   "cell_type": "code",
   "execution_count": 6,
   "metadata": {},
   "outputs": [
    {
     "name": "stdout",
     "output_type": "stream",
     "text": [
      "<class 'pandas.core.frame.DataFrame'>\n",
      "RangeIndex: 2000 entries, 0 to 1999\n",
      "Data columns (total 7 columns):\n",
      " #   Column           Non-Null Count  Dtype  \n",
      "---  ------           --------------  -----  \n",
      " 0   Дата             2000 non-null   object \n",
      " 1   Магазин          2000 non-null   object \n",
      " 2   Город            2000 non-null   object \n",
      " 3   Товар            2000 non-null   object \n",
      " 4   Категория        2000 non-null   object \n",
      " 5   Количество. кг   2000 non-null   float64\n",
      " 6   Стоимость. руб.  2000 non-null   float64\n",
      "dtypes: float64(2), object(5)\n",
      "memory usage: 109.5+ KB\n"
     ]
    }
   ],
   "source": [
    "df.info()"
   ]
  },
  {
   "cell_type": "code",
   "execution_count": 33,
   "metadata": {},
   "outputs": [
    {
     "data": {
      "text/plain": [
       "Город             Категория\n",
       "Владимир          Овощи        326\n",
       "                  Фрукты       321\n",
       "Гусь-Хрустальный  Овощи        351\n",
       "                  Фрукты       299\n",
       "Ковров            Овощи        343\n",
       "                  Фрукты       360\n",
       "Name: Количество. кг, dtype: int64"
      ]
     },
     "execution_count": 33,
     "metadata": {},
     "output_type": "execute_result"
    }
   ],
   "source": [
    "df.groupby(['Город', 'Категория'])['Количество. кг'].count()"
   ]
  },
  {
   "cell_type": "code",
   "execution_count": 38,
   "metadata": {},
   "outputs": [
    {
     "data": {
      "text/html": [
       "<div>\n",
       "<style scoped>\n",
       "    .dataframe tbody tr th:only-of-type {\n",
       "        vertical-align: middle;\n",
       "    }\n",
       "\n",
       "    .dataframe tbody tr th {\n",
       "        vertical-align: top;\n",
       "    }\n",
       "\n",
       "    .dataframe thead tr th {\n",
       "        text-align: left;\n",
       "    }\n",
       "\n",
       "    .dataframe thead tr:last-of-type th {\n",
       "        text-align: right;\n",
       "    }\n",
       "</style>\n",
       "<table border=\"1\" class=\"dataframe\">\n",
       "  <thead>\n",
       "    <tr>\n",
       "      <th></th>\n",
       "      <th colspan=\"3\" halign=\"left\">Стоимость. руб.</th>\n",
       "    </tr>\n",
       "    <tr>\n",
       "      <th>Город</th>\n",
       "      <th>Владимир</th>\n",
       "      <th>Гусь-Хрустальный</th>\n",
       "      <th>Ковров</th>\n",
       "    </tr>\n",
       "    <tr>\n",
       "      <th>Категория</th>\n",
       "      <th></th>\n",
       "      <th></th>\n",
       "      <th></th>\n",
       "    </tr>\n",
       "  </thead>\n",
       "  <tbody>\n",
       "    <tr>\n",
       "      <th>Овощи</th>\n",
       "      <td>2626.8</td>\n",
       "      <td>2587.2</td>\n",
       "      <td>2613.6</td>\n",
       "    </tr>\n",
       "    <tr>\n",
       "      <th>Фрукты</th>\n",
       "      <td>2435.4</td>\n",
       "      <td>2447.7</td>\n",
       "      <td>2373.9</td>\n",
       "    </tr>\n",
       "  </tbody>\n",
       "</table>\n",
       "</div>"
      ],
      "text/plain": [
       "          Стоимость. руб.                         \n",
       "Город            Владимир Гусь-Хрустальный  Ковров\n",
       "Категория                                         \n",
       "Овощи              2626.8           2587.2  2613.6\n",
       "Фрукты             2435.4           2447.7  2373.9"
      ]
     },
     "execution_count": 38,
     "metadata": {},
     "output_type": "execute_result"
    }
   ],
   "source": [
    "df.pivot_table(index=['Категория'] ,columns= ['Город'], values=['Стоимость. руб.'], aggfunc=max)"
   ]
  },
  {
   "cell_type": "code",
   "execution_count": 37,
   "metadata": {},
   "outputs": [
    {
     "data": {
      "text/html": [
       "<div>\n",
       "<style scoped>\n",
       "    .dataframe tbody tr th:only-of-type {\n",
       "        vertical-align: middle;\n",
       "    }\n",
       "\n",
       "    .dataframe tbody tr th {\n",
       "        vertical-align: top;\n",
       "    }\n",
       "\n",
       "    .dataframe thead th {\n",
       "        text-align: right;\n",
       "    }\n",
       "</style>\n",
       "<table border=\"1\" class=\"dataframe\">\n",
       "  <thead>\n",
       "    <tr style=\"text-align: right;\">\n",
       "      <th>Город</th>\n",
       "      <th>Владимир</th>\n",
       "      <th>Гусь-Хрустальный</th>\n",
       "      <th>Ковров</th>\n",
       "    </tr>\n",
       "    <tr>\n",
       "      <th>Категория</th>\n",
       "      <th></th>\n",
       "      <th></th>\n",
       "      <th></th>\n",
       "    </tr>\n",
       "  </thead>\n",
       "  <tbody>\n",
       "    <tr>\n",
       "      <th>Овощи</th>\n",
       "      <td>0.319608</td>\n",
       "      <td>0.344118</td>\n",
       "      <td>0.336275</td>\n",
       "    </tr>\n",
       "    <tr>\n",
       "      <th>Фрукты</th>\n",
       "      <td>0.327551</td>\n",
       "      <td>0.305102</td>\n",
       "      <td>0.367347</td>\n",
       "    </tr>\n",
       "  </tbody>\n",
       "</table>\n",
       "</div>"
      ],
      "text/plain": [
       "Город      Владимир  Гусь-Хрустальный    Ковров\n",
       "Категория                                      \n",
       "Овощи      0.319608          0.344118  0.336275\n",
       "Фрукты     0.327551          0.305102  0.367347"
      ]
     },
     "execution_count": 37,
     "metadata": {},
     "output_type": "execute_result"
    }
   ],
   "source": [
    "pd.crosstab(df['Категория'], df['Город'],normalize='index')"
   ]
  },
  {
   "cell_type": "code",
   "execution_count": null,
   "metadata": {},
   "outputs": [],
   "source": []
  }
 ],
 "metadata": {
  "kernelspec": {
   "display_name": "Python 3.10.5 64-bit",
   "language": "python",
   "name": "python3"
  },
  "language_info": {
   "codemirror_mode": {
    "name": "ipython",
    "version": 3
   },
   "file_extension": ".py",
   "mimetype": "text/x-python",
   "name": "python",
   "nbconvert_exporter": "python",
   "pygments_lexer": "ipython3",
   "version": "3.10.5"
  },
  "orig_nbformat": 4,
  "vscode": {
   "interpreter": {
    "hash": "26de051ba29f2982a8de78e945f0abaf191376122a1563185a90213a26c5da77"
   }
  }
 },
 "nbformat": 4,
 "nbformat_minor": 2
}
