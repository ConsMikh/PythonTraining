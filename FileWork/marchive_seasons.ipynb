{
 "cells": [
  {
   "cell_type": "markdown",
   "metadata": {},
   "source": [
    "### Преобразование архива в формат, согласованный с Таней\n",
    "Архив состоит из папок, соответсвующих сезонам:<br>\n",
    "3-5 месяц - весна  (пример: 2020-весна)<br>\n",
    "6-8 - лето (пример: 2020-лето)<br>\n",
    "9-11 - осень (пример: 2020-осень)<br>\n",
    "12-2 (след года) - зима (пример: 2021-2020-зима)"
   ]
  },
  {
   "cell_type": "code",
   "execution_count": 47,
   "metadata": {},
   "outputs": [],
   "source": [
    "import os\n",
    "import shutil\n",
    "import time"
   ]
  },
  {
   "cell_type": "code",
   "execution_count": 29,
   "metadata": {},
   "outputs": [],
   "source": [
    "def seasongen(numyear,nummonth):\n",
    "    pathname = ''\n",
    "    if (nummonth == '01' or nummonth == '02'): pathname = numyear + '-' + str(int(numyear)-1) + '-зима'\n",
    "    elif (nummonth == '03' or nummonth == '04' or nummonth == '05'): pathname = numyear + '-весна'\n",
    "    elif (nummonth == '06' or nummonth == '07' or nummonth == '08'): pathname = numyear + '-лето'\n",
    "    elif (nummonth == '09' or nummonth == '10' or nummonth == '11'): pathname = numyear + '-осень'\n",
    "    elif (nummonth == '12'): pathname = str(int(numyear)+1) + '-' + numyear + '-зима'\n",
    "    return pathname"
   ]
  },
  {
   "cell_type": "markdown",
   "metadata": {},
   "source": [
    "#### Сортировка архива, расположенного в папках формата год.месяц"
   ]
  },
  {
   "cell_type": "code",
   "execution_count": 40,
   "metadata": {},
   "outputs": [],
   "source": [
    "path = \"W:\\MediaArchive\\Temp\\\\\"\n",
    "newpath = 'W:\\MediaArchive\\\\'"
   ]
  },
  {
   "cell_type": "code",
   "execution_count": null,
   "metadata": {},
   "outputs": [],
   "source": [
    "\n",
    "\n",
    "for yeardir in os.listdir(path):\n",
    "    print(yeardir)\n",
    "    for monthdir in os.listdir(path + yeardir):\n",
    "        monthnum = monthdir.split('.')[1]\n",
    "        print(monthnum)\n",
    "        fullnewpath = newpath+seasongen(yeardir,monthnum)\n",
    "        try:\n",
    "            os.mkdir(fullnewpath)\n",
    "        except: 1\n",
    "        print(seasongen(yeardir,monthnum))\n",
    "        for file in os.listdir(path + yeardir+'\\\\'+monthdir):\n",
    "            shutil.copy(path + yeardir+'\\\\'+ monthdir + '\\\\' + file, fullnewpath + '\\\\' + file)\n",
    "\n",
    "        \n",
    "        "
   ]
  },
  {
   "cell_type": "markdown",
   "metadata": {},
   "source": [
    "#### Сортировка файлов в папке, расположенных общим списком в папке Temp\n",
    "Дата создания файла находится в свойстве \"Изменен\""
   ]
  },
  {
   "cell_type": "code",
   "execution_count": 68,
   "metadata": {},
   "outputs": [],
   "source": [
    "source_path = \"D:\\Восстановленные файлы\\Temp\"\n",
    "dist_path = \"W:\\MediaArchive\""
   ]
  },
  {
   "cell_type": "code",
   "execution_count": 69,
   "metadata": {},
   "outputs": [],
   "source": [
    "for file in os.listdir(source_path):\n",
    "    ymdate = time.strftime(\"%Y %m\",time.gmtime(os.path.getmtime (source_path+'\\\\'+file)))\n",
    "    seasondir = seasongen(ymdate.split(' ')[0], ymdate.split(' ')[1])\n",
    "    try:\n",
    "        os.mkdir(dist_path+'\\\\'+seasondir)\n",
    "    except: 1\n",
    "    shutil.copy(source_path+'\\\\'+file,dist_path+'\\\\'+seasondir+'\\\\'+file)"
   ]
  },
  {
   "cell_type": "markdown",
   "metadata": {},
   "source": [
    "#### Сортировка файлов в папке, расположенных общим списком в папке Temp\n",
    "Дата создания файла находится в свойстве \"Создан\""
   ]
  },
  {
   "cell_type": "code",
   "execution_count": 64,
   "metadata": {},
   "outputs": [],
   "source": [
    "source_path = \"D:\\Восстановленные файлы\\Temp\"\n",
    "dist_path = \"W:\\MediaArchive\"\n"
   ]
  },
  {
   "cell_type": "code",
   "execution_count": 65,
   "metadata": {},
   "outputs": [],
   "source": [
    "for file in os.listdir(source_path):\n",
    "    ymdate = time.strftime(\"%Y %m\",time.gmtime(os.path.getctime (source_path+'\\\\'+file)))\n",
    "    seasondir = seasongen(ymdate.split(' ')[0], ymdate.split(' ')[1])\n",
    "    try:\n",
    "        os.mkdir(dist_path+'\\\\'+seasondir)\n",
    "    except: 1\n",
    "    shutil.copy(source_path+'\\\\'+file,dist_path+'\\\\'+seasondir+'\\\\'+file)"
   ]
  },
  {
   "cell_type": "code",
   "execution_count": null,
   "metadata": {},
   "outputs": [],
   "source": []
  }
 ],
 "metadata": {
  "kernelspec": {
   "display_name": "Python 3.10.5 64-bit",
   "language": "python",
   "name": "python3"
  },
  "language_info": {
   "codemirror_mode": {
    "name": "ipython",
    "version": 3
   },
   "file_extension": ".py",
   "mimetype": "text/x-python",
   "name": "python",
   "nbconvert_exporter": "python",
   "pygments_lexer": "ipython3",
   "version": "3.10.5"
  },
  "orig_nbformat": 4,
  "vscode": {
   "interpreter": {
    "hash": "26de051ba29f2982a8de78e945f0abaf191376122a1563185a90213a26c5da77"
   }
  }
 },
 "nbformat": 4,
 "nbformat_minor": 2
}
