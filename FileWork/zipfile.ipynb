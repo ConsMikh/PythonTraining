{
 "cells": [
  {
   "cell_type": "code",
   "execution_count": 2,
   "metadata": {},
   "outputs": [],
   "source": [
    "import zipfile\n",
    "import os"
   ]
  },
  {
   "cell_type": "code",
   "execution_count": 4,
   "metadata": {},
   "outputs": [],
   "source": [
    "INPUT_PATH = 'd:\\\\Data\\\\'\n",
    "OUTPUT_PATH = 'd:\\\\Data\\\\'\n",
    "PASSWORD = b'18042014'"
   ]
  },
  {
   "cell_type": "code",
   "execution_count": 7,
   "metadata": {},
   "outputs": [],
   "source": [
    "with zipfile.ZipFile(os.path.join(OUTPUT_PATH, 'report.zip'), 'w') as new_zip:\n",
    "    new_zip.setpassword(PASSWORD)\n",
    "    new_zip.write(os.path.join(INPUT_PATH,'report.json'), compress_type=zipfile.ZIP_DEFLATED)"
   ]
  },
  {
   "cell_type": "code",
   "execution_count": 5,
   "metadata": {},
   "outputs": [],
   "source": [
    "import pyzipper\n",
    "\n",
    "secret_password = b'18042014'\n",
    "\n",
    "with pyzipper.AESZipFile(os.path.join(OUTPUT_PATH, 'report.zip'),\n",
    "                         'w',\n",
    "                         compression=pyzipper.ZIP_LZMA,\n",
    "                         encryption=pyzipper.WZ_AES) as zf:\n",
    "    zf.setpassword(secret_password)\n",
    "    zf.write(os.path.join(INPUT_PATH,'report.json'), arcname='report.json')\n",
    "\n",
    "# with pyzipper.AESZipFile('new_test.zip') as zf:\n",
    "#     zf.setpassword(secret_password)\n",
    "#     my_secrets = zf.read('test.txt')"
   ]
  },
  {
   "cell_type": "code",
   "execution_count": null,
   "metadata": {},
   "outputs": [],
   "source": []
  }
 ],
 "metadata": {
  "kernelspec": {
   "display_name": "Python 3",
   "language": "python",
   "name": "python3"
  },
  "language_info": {
   "codemirror_mode": {
    "name": "ipython",
    "version": 3
   },
   "file_extension": ".py",
   "mimetype": "text/x-python",
   "name": "python",
   "nbconvert_exporter": "python",
   "pygments_lexer": "ipython3",
   "version": "3.10.5"
  },
  "orig_nbformat": 4
 },
 "nbformat": 4,
 "nbformat_minor": 2
}
