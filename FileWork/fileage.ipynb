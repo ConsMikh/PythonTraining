{
 "cells": [
  {
   "cell_type": "code",
   "execution_count": 30,
   "metadata": {},
   "outputs": [],
   "source": [
    "# https://stackoverflow.com/questions/31507038/python-how-to-read-windows-media-created-date-not-file-creation-date\n",
    "import os\n",
    "import pytz\n",
    "import datetime\n",
    "from win32com.propsys import propsys, pscon\n",
    "import shutil"
   ]
  },
  {
   "cell_type": "code",
   "execution_count": 31,
   "metadata": {},
   "outputs": [],
   "source": [
    "path = \"D:\\Восстановленные файлы\\Без года\\Видео\\Файл с утерянным именем (69).mp4\"\n",
    "pathdir = \"D:\\Восстановленные файлы\\Без года\\Видео\"\n",
    "sortdir = \"D:\\Восстановленные файлы\\Без года\\Sort\""
   ]
  },
  {
   "cell_type": "code",
   "execution_count": 32,
   "metadata": {},
   "outputs": [],
   "source": [
    "def getyearmonth(pathf):\n",
    "    properties = propsys.SHGetPropertyStoreFromParsingName(pathf)\n",
    "    dt = properties.GetValue(pscon.PKEY_Media_DateEncoded).GetValue()\n",
    "\n",
    "    if not isinstance(dt, datetime.datetime):\n",
    "        # In Python 2, PyWin32 returns a custom time type instead of\n",
    "        # using a datetime subclass. It has a Format method for strftime\n",
    "        # style formatting, but let's just convert it to datetime:\n",
    "        dt = datetime.datetime.fromtimestamp(int(dt))\n",
    "        dt = dt.replace(tzinfo=pytz.timezone('UTC'))\n",
    "        \n",
    "    return dt.strftime('%Y.%m')\n"
   ]
  },
  {
   "cell_type": "code",
   "execution_count": 16,
   "metadata": {},
   "outputs": [],
   "source": [
    "dir = getyearmonth(path)"
   ]
  },
  {
   "cell_type": "code",
   "execution_count": 34,
   "metadata": {},
   "outputs": [
    {
     "name": "stdout",
     "output_type": "stream",
     "text": [
      "6.09.2017 Новый комбенизончик.mp4\n",
      "f1753088.mp4\n",
      "f2277376.mp4\n",
      "f3932160.mp4\n",
      "f46958592.mp4\n",
      "f55689216.mp4\n",
      "f61048832.mp4\n",
      "f67831808.mp4\n",
      "f7145472.mp4\n",
      "N0.0000E0.0000.Id_4000000748ebee.mp4\n",
      "Файл с утерянным именем (1).mp4\n",
      "Файл с утерянным именем (10).mp4\n",
      "Файл с утерянным именем (19).mp4\n",
      "Файл с утерянным именем (31).mp4\n",
      "Файл с утерянным именем (42).mp4\n",
      "Файл с утерянным именем (60).mp4\n"
     ]
    }
   ],
   "source": [
    "for path in os.listdir(pathdir):\n",
    "    dir = getyearmonth(pathdir + '\\\\' + path)\n",
    "    src = pathdir + '\\\\' + path\n",
    "    dst = sortdir + '\\\\' + dir + '\\\\' + path\n",
    "    try:\n",
    "        shutil.copy(src, dst)\n",
    "    except:\n",
    "        os.mkdir(sortdir + '\\\\' + dir)\n",
    "        print(path)\n",
    "    "
   ]
  },
  {
   "cell_type": "code",
   "execution_count": null,
   "metadata": {},
   "outputs": [],
   "source": []
  }
 ],
 "metadata": {
  "kernelspec": {
   "display_name": "Python 3.10.5 64-bit",
   "language": "python",
   "name": "python3"
  },
  "language_info": {
   "codemirror_mode": {
    "name": "ipython",
    "version": 3
   },
   "file_extension": ".py",
   "mimetype": "text/x-python",
   "name": "python",
   "nbconvert_exporter": "python",
   "pygments_lexer": "ipython3",
   "version": "3.10.5"
  },
  "orig_nbformat": 4,
  "vscode": {
   "interpreter": {
    "hash": "26de051ba29f2982a8de78e945f0abaf191376122a1563185a90213a26c5da77"
   }
  }
 },
 "nbformat": 4,
 "nbformat_minor": 2
}
