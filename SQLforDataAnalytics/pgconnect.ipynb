{
 "cells": [
  {
   "cell_type": "code",
   "execution_count": 1,
   "metadata": {},
   "outputs": [],
   "source": [
    "import psycopg2\n",
    "conn = psycopg2.connect(host=\"localhost\", \n",
    "                        user=\"postgres\", \n",
    "                        password=\"1\", \n",
    "                        dbname=\"sqlda\", port=5432)\n"
   ]
  },
  {
   "cell_type": "code",
   "execution_count": 2,
   "metadata": {},
   "outputs": [
    {
     "name": "stdout",
     "output_type": "stream",
     "text": [
      "[('Seq Scan on customers  (cost=0.00..1786.00 rows=26302 width=140)',), (\"  Filter: ((latitude > '30'::double precision) AND (latitude < '40'::double precision))\",)]\n"
     ]
    }
   ],
   "source": [
    "with conn.cursor() as cur:\n",
    "        cur.execute(\"\"\" \n",
    "        EXPLAIN SELECT * FROM public.customers\n",
    "        WHERE latitude > 30 \n",
    "        AND latitude < 40\n",
    "        ;\n",
    "        \"\"\")\n",
    "        records = cur.fetchall()\n",
    "print(records)"
   ]
  },
  {
   "cell_type": "code",
   "execution_count": null,
   "metadata": {},
   "outputs": [],
   "source": []
  }
 ],
 "metadata": {
  "kernelspec": {
   "display_name": "Python 3.10.5 64-bit",
   "language": "python",
   "name": "python3"
  },
  "language_info": {
   "codemirror_mode": {
    "name": "ipython",
    "version": 3
   },
   "file_extension": ".py",
   "mimetype": "text/x-python",
   "name": "python",
   "nbconvert_exporter": "python",
   "pygments_lexer": "ipython3",
   "version": "3.10.5"
  },
  "orig_nbformat": 4,
  "vscode": {
   "interpreter": {
    "hash": "26de051ba29f2982a8de78e945f0abaf191376122a1563185a90213a26c5da77"
   }
  }
 },
 "nbformat": 4,
 "nbformat_minor": 2
}
