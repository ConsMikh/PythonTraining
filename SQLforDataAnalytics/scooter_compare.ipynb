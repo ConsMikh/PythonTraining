{
 "cells": [
  {
   "cell_type": "code",
   "execution_count": 10,
   "metadata": {},
   "outputs": [],
   "source": [
    "from sqlalchemy import create_engine\n",
    "import pandas as pd\n",
    "import matplotlib.pyplot as plt"
   ]
  },
  {
   "cell_type": "code",
   "execution_count": 2,
   "metadata": {},
   "outputs": [
    {
     "name": "stdout",
     "output_type": "stream",
     "text": [
      "postgresql+psycopg2://{username}:{pswd}@{host}:{port}/{database}\n"
     ]
    }
   ],
   "source": [
    "cnxn_string = (\"postgresql+psycopg2://{username}:{pswd}\"\n",
    "               \"@{host}:{port}/{database}\")\n",
    "print(cnxn_string)"
   ]
  },
  {
   "cell_type": "code",
   "execution_count": 3,
   "metadata": {},
   "outputs": [],
   "source": [
    "engine = create_engine(cnxn_string.format(\n",
    "    username=\"postgres\", \n",
    "    pswd=\"1\", \n",
    "    host=\"localhost\", \n",
    "    port=5432,\n",
    "    database=\"sqlda\"))  "
   ]
  },
  {
   "cell_type": "code",
   "execution_count": 4,
   "metadata": {},
   "outputs": [],
   "source": [
    "bat = pd.read_sql_table('bat_sales_vol', engine)"
   ]
  },
  {
   "cell_type": "code",
   "execution_count": 6,
   "metadata": {},
   "outputs": [
    {
     "name": "stdout",
     "output_type": "stream",
     "text": [
      "<class 'pandas.core.frame.DataFrame'>\n",
      "RangeIndex: 964 entries, 0 to 963\n",
      "Data columns (total 5 columns):\n",
      " #   Column                  Non-Null Count  Dtype         \n",
      "---  ------                  --------------  -----         \n",
      " 0   sales_transaction_date  964 non-null    datetime64[ns]\n",
      " 1   count                   964 non-null    int64         \n",
      " 2   sum                     964 non-null    float64       \n",
      " 3   lag                     957 non-null    float64       \n",
      " 4   volume                  957 non-null    float64       \n",
      "dtypes: datetime64[ns](1), float64(3), int64(1)\n",
      "memory usage: 37.8 KB\n"
     ]
    }
   ],
   "source": [
    "bat.info()"
   ]
  },
  {
   "cell_type": "code",
   "execution_count": 7,
   "metadata": {},
   "outputs": [],
   "source": [
    "bat_ltd = pd.read_sql_table('bat_ltd_sales_vol', engine)"
   ]
  },
  {
   "cell_type": "code",
   "execution_count": 8,
   "metadata": {},
   "outputs": [
    {
     "name": "stdout",
     "output_type": "stream",
     "text": [
      "<class 'pandas.core.frame.DataFrame'>\n",
      "RangeIndex: 836 entries, 0 to 835\n",
      "Data columns (total 5 columns):\n",
      " #   Column                  Non-Null Count  Dtype         \n",
      "---  ------                  --------------  -----         \n",
      " 0   sales_transaction_date  836 non-null    datetime64[ns]\n",
      " 1   count                   836 non-null    int64         \n",
      " 2   sum                     836 non-null    float64       \n",
      " 3   lag                     829 non-null    float64       \n",
      " 4   volume                  829 non-null    float64       \n",
      "dtypes: datetime64[ns](1), float64(3), int64(1)\n",
      "memory usage: 32.8 KB\n"
     ]
    }
   ],
   "source": [
    "bat_ltd.info()"
   ]
  },
  {
   "cell_type": "code",
   "execution_count": 9,
   "metadata": {},
   "outputs": [
    {
     "data": {
      "text/plain": [
       "0           NaN\n",
       "1           NaN\n",
       "2           NaN\n",
       "3           NaN\n",
       "4           NaN\n",
       "         ...   \n",
       "831    0.008574\n",
       "832    0.009259\n",
       "833    0.009245\n",
       "834    0.010281\n",
       "835    0.009569\n",
       "Name: volume, Length: 836, dtype: float64"
      ]
     },
     "execution_count": 9,
     "metadata": {},
     "output_type": "execute_result"
    }
   ],
   "source": [
    "bat_ltd['volume']"
   ]
  },
  {
   "cell_type": "code",
   "execution_count": 15,
   "metadata": {},
   "outputs": [
    {
     "data": {
      "image/png": "[encoded data removed]",
      "text/plain": [
       "<Figure size 936x720 with 1 Axes>"
      ]
     },
     "metadata": {
      "needs_background": "light"
     },
     "output_type": "display_data"
    }
   ],
   "source": [
    "# Создаем линейный график\n",
    "\n",
    "plt.figure(figsize = (13,10))\n",
    "# Рисуется два графика:\n",
    "# 1. Отображаются только точки: параметр 'bo'\n",
    "# 2. Отображается линия: параметр 'k'\n",
    "plt.plot(bat['volume'].dropna().iloc[0:30],'bo')\n",
    "plt.plot(bat_ltd['volume'].dropna().iloc[0:30],'ro')\n",
    "plt.legend(['bat','bat_ltd'])\n",
    "# plt.title('Количество новых клиентов по месяцам')\n",
    "# plt.xlabel('Месяц')\n",
    "# plt.ylabel('Кол-во клиентов')\n",
    "plt.grid(True)\n",
    "\n",
    "plt.show()"
   ]
  },
  {
   "cell_type": "code",
   "execution_count": null,
   "metadata": {},
   "outputs": [],
   "source": []
  }
 ],
 "metadata": {
  "kernelspec": {
   "display_name": "Python 3.10.5 64-bit",
   "language": "python",
   "name": "python3"
  },
  "language_info": {
   "codemirror_mode": {
    "name": "ipython",
    "version": 3
   },
   "file_extension": ".py",
   "mimetype": "text/x-python",
   "name": "python",
   "nbconvert_exporter": "python",
   "pygments_lexer": "ipython3",
   "version": "3.10.5"
  },
  "orig_nbformat": 4,
  "vscode": {
   "interpreter": {
    "hash": "26de051ba29f2982a8de78e945f0abaf191376122a1563185a90213a26c5da77"
   }
  }
 },
 "nbformat": 4,
 "nbformat_minor": 2
}
