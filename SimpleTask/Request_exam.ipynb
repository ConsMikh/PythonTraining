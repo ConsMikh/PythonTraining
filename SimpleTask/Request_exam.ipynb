{
 "cells": [
  {
   "cell_type": "code",
   "execution_count": 1,
   "metadata": {},
   "outputs": [],
   "source": [
    "import requests\n",
    "import json\n",
    "import xml.etree.ElementTree as ET"
   ]
  },
  {
   "cell_type": "code",
   "execution_count": 13,
   "metadata": {},
   "outputs": [],
   "source": [
    "\n",
    "HEADERS = {'Content-Type': 'application/json', 'Accept': 'application/json'}\n",
    "NB_URL = \"http://85.142.162.12:8031\"\n",
    "\n",
    "request_url = f\"{NB_URL}/api/cls/request\"\n",
    "\n",
    "json = {\n",
    "    \"Ogrn\" : \"1234567890987\",\n",
    "    \"Kpp\" : \"123456789\",\n",
    "    \"Cls\" : \"DirectionList\"\n",
    "}\n",
    "DirectionList = requests.post(request_url, headers = HEADERS, json=json)\n",
    "xml = ET.fromstring(DirectionList.content)"
   ]
  },
  {
   "cell_type": "code",
   "execution_count": 2,
   "metadata": {},
   "outputs": [
    {
     "name": "stdout",
     "output_type": "stream",
     "text": [
      "Status code: 200\n"
     ]
    }
   ],
   "source": [
    "# Make an API call and store the response\n",
    "url = 'https://api.github.com/search/repositories?q=language:python&sort=stars'\n",
    "headers = {'Accept': 'application/vnd.github.v3+json'}\n",
    "r = requests.get(url, headers=headers)\n",
    "print(f\"Status code: {r.status_code}\")\n"
   ]
  },
  {
   "cell_type": "code",
   "execution_count": 4,
   "metadata": {},
   "outputs": [
    {
     "name": "stdout",
     "output_type": "stream",
     "text": [
      "dict_keys(['total_count', 'incomplete_results', 'items'])\n"
     ]
    }
   ],
   "source": [
    "# Store API response in a variable\n",
    "response_dict = r.json()\n",
    "# Process results\n",
    "print(response_dict.keys())"
   ]
  },
  {
   "cell_type": "code",
   "execution_count": 11,
   "metadata": {},
   "outputs": [
    {
     "name": "stdout",
     "output_type": "stream",
     "text": [
      "80\n",
      "149155\n"
     ]
    }
   ],
   "source": [
    "print(len(sorted(response_dict['items'][0].keys())))\n",
    "print(response_dict['items'][0]['stargazers_count'])"
   ]
  },
  {
   "cell_type": "code",
   "execution_count": null,
   "metadata": {},
   "outputs": [],
   "source": []
  }
 ],
 "metadata": {
  "kernelspec": {
   "display_name": "Python 3.11.0 64-bit",
   "language": "python",
   "name": "python3"
  },
  "language_info": {
   "codemirror_mode": {
    "name": "ipython",
    "version": 3
   },
   "file_extension": ".py",
   "mimetype": "text/x-python",
   "name": "python",
   "nbconvert_exporter": "python",
   "pygments_lexer": "ipython3",
   "version": "3.11.0"
  },
  "orig_nbformat": 4,
  "vscode": {
   "interpreter": {
    "hash": "29cc90a2bea4b15c5a842ad39d9eddd2454531898d435b1cad43e6fdc378dd03"
   }
  }
 },
 "nbformat": 4,
 "nbformat_minor": 2
}
