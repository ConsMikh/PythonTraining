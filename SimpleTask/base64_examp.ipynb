{
 "cells": [
  {
   "cell_type": "code",
   "execution_count": 2,
   "metadata": {},
   "outputs": [],
   "source": [
    "import base64"
   ]
  },
  {
   "cell_type": "code",
   "execution_count": 7,
   "metadata": {},
   "outputs": [],
   "source": [
    "coded_string = '''\n",
    "    ewogICJhY3Rpb24iOiAiIiwKICAiZGF0YV90eXBlIjogIiIsCiAgIk9HUk4iOiAiIiwKICAiS1BQIjogIiIsCiAgImNlcnQ2NCI6ICIiCn0=\n",
    "    '''\n",
    "decoded_string = base64.b64decode(coded_string)"
   ]
  },
  {
   "cell_type": "code",
   "execution_count": 8,
   "metadata": {},
   "outputs": [
    {
     "data": {
      "text/plain": [
       "b'{\\n  \"action\": \"\",\\n  \"data_type\": \"\",\\n  \"OGRN\": \"\",\\n  \"KPP\": \"\",\\n  \"cert64\": \"\"\\n}'"
      ]
     },
     "execution_count": 8,
     "metadata": {},
     "output_type": "execute_result"
    }
   ],
   "source": [
    "decoded_string"
   ]
  }
 ],
 "metadata": {
  "kernelspec": {
   "display_name": "Python 3.11.0 64-bit",
   "language": "python",
   "name": "python3"
  },
  "language_info": {
   "codemirror_mode": {
    "name": "ipython",
    "version": 3
   },
   "file_extension": ".py",
   "mimetype": "text/x-python",
   "name": "python",
   "nbconvert_exporter": "python",
   "pygments_lexer": "ipython3",
   "version": "3.11.0"
  },
  "orig_nbformat": 4,
  "vscode": {
   "interpreter": {
    "hash": "29cc90a2bea4b15c5a842ad39d9eddd2454531898d435b1cad43e6fdc378dd03"
   }
  }
 },
 "nbformat": 4,
 "nbformat_minor": 2
}
